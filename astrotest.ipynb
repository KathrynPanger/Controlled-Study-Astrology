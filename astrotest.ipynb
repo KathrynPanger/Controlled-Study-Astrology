{
 "metadata": {
  "language_info": {
   "codemirror_mode": {
    "name": "ipython",
    "version": 3
   },
   "file_extension": ".py",
   "mimetype": "text/x-python",
   "name": "python",
   "nbconvert_exporter": "python",
   "pygments_lexer": "ipython3",
   "version": "3.8.5"
  },
  "orig_nbformat": 2,
  "kernelspec": {
   "name": "python385jvsc74a57bd09a492a932a5bed98d6f8e1b5f1ae1d46b2b5df4ebd9e59fb2d1181a1f217f2fd",
   "display_name": "Python 3.8.5 64-bit ('base': conda)"
  }
 },
 "nbformat": 4,
 "nbformat_minor": 2,
 "cells": [
  {
   "cell_type": "code",
   "execution_count": 1,
   "metadata": {},
   "outputs": [],
   "source": [
    "import requests\n",
    "import json\n",
    "import pandas as pd\n",
    "from datetime import date\n",
    "import csv\n",
    "import random"
   ]
  },
  {
   "cell_type": "code",
   "execution_count": 2,
   "metadata": {},
   "outputs": [],
   "source": [
    "#Open your log of previous guesses (or begin a new one) using your first name as the file name. This log will be used to track your results over time and determine your accuracy.\n",
    "name=input(\"What is your first name?.\")\n",
    "with open (f\"{name}.csv\",'a') as allpckts:\n",
    "    pass"
   ]
  },
  {
   "cell_type": "code",
   "execution_count": 3,
   "metadata": {},
   "outputs": [],
   "source": [
    "#Define a function to fetch your zodiac sign\"\n",
    "def zodiac_sign(day, month):\n",
    "    if month == 12:\n",
    "        astro_sign = 'sagittarius' if (day < 22) else 'capricorn'\n",
    "    elif month == 1:\n",
    "        astro_sign = 'capricorn' if (day < 20) else 'aquarius'\n",
    "    elif month == 2:\n",
    "        astro_sign = 'aquarius' if (day < 19) else 'pisces'\n",
    "    elif month == 3:\n",
    "      astro_sign = 'pisces' if (day < 21) else 'aries'\n",
    "    elif month == 4:\n",
    "        astro_sign = 'aries' if (day < 20) else 'taurus'\n",
    "    elif month == 5:\n",
    "      astro_sign = 'taurus' if (day < 21) else 'gemini'\n",
    "    elif month == 6:\n",
    "        astro_sign = 'gemini' if (day < 21) else 'cancer'\n",
    "    elif month == 7:\n",
    "        astro_sign = 'cancer' if (day < 23) else 'leo'\n",
    "    elif month == 8:\n",
    "        astro_sign = 'leo' if (day < 23) else 'virgo'\n",
    "    elif month == 9:\n",
    "        astro_sign = 'virgo' if (day < 23) else 'libra'\n",
    "    elif month == 10:\n",
    "        astro_sign = 'libra' if (day < 23) else 'scorpio'\n",
    "    elif month == 11:\n",
    "        astro_sign = 'scorpio' if (day < 22) else 'sagittarius'\n",
    "    return(astro_sign)\n"
   ]
  },
  {
   "cell_type": "code",
   "execution_count": 4,
   "metadata": {},
   "outputs": [],
   "source": [
    "#collect info to determine your zodiac sign\n",
    "month=input(\"Enter the number of your birth month. Do not include leading zeros.\")\n",
    "day=input(\"Next, enter the number of your birth day. Do not include leading zeros.\")\n"
   ]
  },
  {
   "cell_type": "code",
   "execution_count": 6,
   "metadata": {},
   "outputs": [],
   "source": [
    "#get your sign\n",
    "sign=zodiac_sign(int(day),int(month))"
   ]
  },
  {
   "cell_type": "code",
   "execution_count": 7,
   "metadata": {},
   "outputs": [],
   "source": [
    "#Get 3 Wrong Guesses\n",
    "zodiaclist=[\"sagittarius\", \"capricorn\", \"aquarius\", \"pisces\", \"aries\", \"taurus\", \"gemini\", \"cancer\", \"leo\", \"virgo\", \"libra\", \"scorpio\"]\n",
    "zodiaclist.remove(sign)\n",
    "wronglist=[]\n",
    "for i in range(3):\n",
    "    compguess=random.choice(zodiaclist)\n",
    "    zodiaclist.remove(compguess)\n",
    "    wronglist.append(compguess)"
   ]
  },
  {
   "cell_type": "code",
   "execution_count": 8,
   "metadata": {},
   "outputs": [],
   "source": [
    "#Get a randomly shuffled list of four zodiac signs, one of which is correct\n",
    "testlist=wronglist\n",
    "testlist.append(sign)\n",
    "random.shuffle(testlist)"
   ]
  },
  {
   "cell_type": "code",
   "execution_count": 9,
   "metadata": {},
   "outputs": [
    {
     "output_type": "stream",
     "name": "stdout",
     "text": [
      "CHOICE NUMBER 1\n",
      "----------------\n",
      "MOOD: Determined\n",
      "Reading: You may be fired up for action (as usual), but the day's energy pretty much guarantees that any movement is slow and bumpy. Try to settle down and let it happen -- things pick up soon!\n",
      "\n",
      "\n",
      "CHOICE NUMBER 2\n",
      "----------------\n",
      "MOOD: Busy\n",
      "Reading: You need to deal with business today -- it may just be work, or it could be bills at home or something even more complex. Even if you'd rather duck the issue, it's not going anywhere!\n",
      "\n",
      "\n",
      "CHOICE NUMBER 3\n",
      "----------------\n",
      "MOOD: Energetic\n",
      "Reading: It's a time of pretty intense healing for you -- even if you thought you were perfectly fine! Your amazing energy is hard at work putting everything right inside and outside, so kick back and let it happen!\n",
      "\n",
      "\n",
      "CHOICE NUMBER 4\n",
      "----------------\n",
      "MOOD: Creative\n",
      "Reading: Your left brain is fully activated today, and you can think through even the most complex of plans with ease. It's a really good time for you to set yourself on a new course, even if it seems uncertain.\n",
      "\n",
      "\n"
     ]
    }
   ],
   "source": [
    "#Get readings from every entry on the testlist, and assign a number to each possible guess\n",
    "for i in range(4):\n",
    "    params = (\n",
    "('sign', testlist[i]),\n",
    "('day', 'today'),\n",
    ")\n",
    "\n",
    "    results=requests.post('https://aztro.sameerkumar.website/', params=params)\n",
    "    results_json=api_json = results.json()\n",
    "    print(f\"CHOICE NUMBER {i+1}\")\n",
    "    print (\"----------------\")\n",
    "    mood=results_json[\"mood\"]\n",
    "    print(f\"MOOD: {mood}\")\n",
    "    reading=results_json[\"description\"]\n",
    "    print(f\"Reading: {reading}\")\n",
    "    print(\"\\n\")\n",
    "\n",
    "\n",
    "\n"
   ]
  },
  {
   "cell_type": "code",
   "execution_count": 12,
   "metadata": {},
   "outputs": [
    {
     "output_type": "error",
     "ename": "TypeError",
     "evalue": "unsupported operand type(s) for -: 'str' and 'int'",
     "traceback": [
      "\u001b[0;31m---------------------------------------------------------------------------\u001b[0m",
      "\u001b[0;31mTypeError\u001b[0m                                 Traceback (most recent call last)",
      "\u001b[0;32m<ipython-input-12-9d1da1f37f21>\u001b[0m in \u001b[0;36m<module>\u001b[0;34m\u001b[0m\n\u001b[1;32m      1\u001b[0m \u001b[0;31m#Make your guess!\u001b[0m\u001b[0;34m\u001b[0m\u001b[0;34m\u001b[0m\u001b[0;34m\u001b[0m\u001b[0m\n\u001b[0;32m----> 2\u001b[0;31m \u001b[0mmake_guess\u001b[0m\u001b[0;34m=\u001b[0m\u001b[0minput\u001b[0m\u001b[0;34m(\u001b[0m\u001b[0;34m\"Type the number of your choice. Which zodiac reading sounds the most accurate to you?\"\u001b[0m\u001b[0;34m)\u001b[0m\u001b[0;34m-\u001b[0m\u001b[0;36m1\u001b[0m\u001b[0;34m\u001b[0m\u001b[0;34m\u001b[0m\u001b[0m\n\u001b[0m",
      "\u001b[0;31mTypeError\u001b[0m: unsupported operand type(s) for -: 'str' and 'int'"
     ]
    }
   ],
   "source": [
    "#Make your guess!\n",
    "make_guess=input(\"Type the number of your choice. Which zodiac reading sounds the most accurate to you?\")"
   ]
  },
  {
   "cell_type": "code",
   "execution_count": 11,
   "metadata": {},
   "outputs": [],
   "source": [
    "#Let the computer guess randomly\n",
    "compchoice=random.choice(testlist)"
   ]
  },
  {
   "cell_type": "code",
   "execution_count": 13,
   "metadata": {},
   "outputs": [
    {
     "output_type": "stream",
     "name": "stdout",
     "text": [
      "Your Real Sign: Cancer \nYour Guess: Aquarius\n"
     ]
    }
   ],
   "source": [
    "#This is the sign you picked\n",
    "print(f\"Your Real Sign: {sign.title()} \")\n",
    "your_guess=testlist[int(make_guess)-1]\n",
    "print(f\"Your Guess: {your_guess.title()}\")\n"
   ]
  },
  {
   "cell_type": "code",
   "execution_count": 74,
   "metadata": {},
   "outputs": [],
   "source": [
    "#Generate today's datapoint\n",
    "today = date.today()\n",
    "guess_correct=sign==your_guess\n",
    "guess_correct_val=0\n",
    "comp_correct_val=0\n",
    "if guess_correct==True:\n",
    "    guess_correct_val =1\n",
    "else:\n",
    "    guess_correct_val=0\n",
    "random_guess = compchoice\n",
    "comp_correct=random_guess==sign\n",
    "if comp_correct==True:\n",
    "    comp_correct_val=1\n",
    "else:\n",
    "    comp_correct_val=0\n",
    "\n",
    "datapoint=[today,sign,your_guess, guess_correct_val, random_guess, comp_correct_val]\n",
    "datapoint_df=pd.DataFrame(datapoint)"
   ]
  },
  {
   "cell_type": "code",
   "execution_count": 75,
   "metadata": {},
   "outputs": [],
   "source": [
    "with open (f\"{name}.csv\",'a') as allpckts:\n",
    "        writer = csv.writer(allpckts)\n",
    "        writer.writerow(datapoint)"
   ]
  },
  {
   "cell_type": "code",
   "execution_count": 76,
   "metadata": {},
   "outputs": [
    {
     "output_type": "stream",
     "name": "stdout",
     "text": [
      "         Date True Sign Your Guess You Right Random Guess Random Right\n0  2021-04-22    cancer   aquarius     False       cancer         True\n1  2021-04-22    cancer   aquarius     False       cancer         True\n2  2021-04-22    cancer   aquarius         0            1         True\n3  2021-04-22    cancer   aquarius         0         True            1\n4  2021-04-22    cancer   aquarius         0       cancer            1\n"
     ]
    }
   ],
   "source": [
    "#Examine your results for guesses so far\n",
    "data=pd.read_csv(f\"{name}.csv\" , names=[\"Date\",\"True Sign\",\"Your Guess\",\"You Right\",\"Random Guess\",\"Random Right\"])\n",
    "print(data)"
   ]
  },
  {
   "cell_type": "code",
   "execution_count": 80,
   "metadata": {},
   "outputs": [],
   "source": [
    "\n",
    "rightcol = data[\"You Right\"]\n",
    "compcol=data[\"Random Right\"]"
   ]
  },
  {
   "cell_type": "code",
   "execution_count": 85,
   "metadata": {},
   "outputs": [
    {
     "output_type": "stream",
     "name": "stdout",
     "text": [
      "So far, you have made correct guesses 0.0% of the time.\n"
     ]
    },
    {
     "output_type": "error",
     "ename": "ValueError",
     "evalue": "invalid literal for int() with base 10: 'True'",
     "traceback": [
      "\u001b[0;31m---------------------------------------------------------------------------\u001b[0m",
      "\u001b[0;31mValueError\u001b[0m                                Traceback (most recent call last)",
      "\u001b[0;32m<ipython-input-85-422aa79724b2>\u001b[0m in \u001b[0;36m<module>\u001b[0;34m\u001b[0m\n\u001b[1;32m     10\u001b[0m \u001b[0mcompcount\u001b[0m\u001b[0;34m=\u001b[0m\u001b[0;36m0\u001b[0m\u001b[0;34m\u001b[0m\u001b[0;34m\u001b[0m\u001b[0m\n\u001b[1;32m     11\u001b[0m \u001b[0;32mfor\u001b[0m \u001b[0mitem\u001b[0m \u001b[0;32min\u001b[0m \u001b[0mcompcol\u001b[0m\u001b[0;34m:\u001b[0m\u001b[0;34m\u001b[0m\u001b[0;34m\u001b[0m\u001b[0m\n\u001b[0;32m---> 12\u001b[0;31m     \u001b[0;32mif\u001b[0m \u001b[0mint\u001b[0m\u001b[0;34m(\u001b[0m\u001b[0mitem\u001b[0m\u001b[0;34m)\u001b[0m \u001b[0;34m==\u001b[0m \u001b[0;36m1\u001b[0m\u001b[0;34m:\u001b[0m\u001b[0;34m\u001b[0m\u001b[0;34m\u001b[0m\u001b[0m\n\u001b[0m\u001b[1;32m     13\u001b[0m         \u001b[0mcompcount\u001b[0m \u001b[0;34m+=\u001b[0m\u001b[0;36m1\u001b[0m\u001b[0;34m\u001b[0m\u001b[0;34m\u001b[0m\u001b[0m\n\u001b[1;32m     14\u001b[0m     \u001b[0;32melse\u001b[0m\u001b[0;34m:\u001b[0m\u001b[0;34m\u001b[0m\u001b[0;34m\u001b[0m\u001b[0m\n",
      "\u001b[0;31mValueError\u001b[0m: invalid literal for int() with base 10: 'True'"
     ]
    }
   ],
   "source": [
    "rightcount=0\n",
    "for item in rightcol:\n",
    "    if int(item) ==1:\n",
    "        rightcount +=1\n",
    "    else:\n",
    "        continue\n",
    "rightpercent = rightcount/n\n",
    "print(f\"So far, you have made correct guesses {rightpercent*11}% of the time.\")\n",
    "\n",
    "compcount=0\n",
    "for item in compcol:\n",
    "    if int(item) == 1:\n",
    "        compcount +=1\n",
    "    else:\n",
    "        continue\n",
    "comppercent = compcount/n\n",
    "print(f\"So far, random guessing by the computer has worked {comppercent*100}% of the time.\")\n",
    "\n"
   ]
  },
  {
   "cell_type": "code",
   "execution_count": 84,
   "metadata": {},
   "outputs": [
    {
     "output_type": "execute_result",
     "data": {
      "text/plain": [
       "0    True\n",
       "1    True\n",
       "2    True\n",
       "3       1\n",
       "4       1\n",
       "Name: Random Right, dtype: object"
      ]
     },
     "metadata": {},
     "execution_count": 84
    }
   ],
   "source": [
    "compcol"
   ]
  },
  {
   "cell_type": "code",
   "execution_count": null,
   "metadata": {},
   "outputs": [],
   "source": []
  }
 ]
}