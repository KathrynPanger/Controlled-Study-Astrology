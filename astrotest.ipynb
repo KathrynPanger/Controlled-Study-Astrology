{
 "cells": [
  {
   "cell_type": "code",
   "execution_count": 70,
   "metadata": {},
   "outputs": [],
   "source": [
    "#Dependencies\n",
    "import requests\n",
    "import json\n",
    "import pandas as pd\n",
    "from datetime import date\n",
    "import csv\n",
    "import random\n",
    "from scipy import stats\n",
    "import time"
   ]
  },
  {
   "cell_type": "code",
   "execution_count": 71,
   "metadata": {},
   "outputs": [],
   "source": [
    "#Open your log of previous guesses (or begin a new one) using your first name as the file name. This log will be used to track your results over time and determine your accuracy.\n",
    "name=input(\"What is your first name?.\")\n",
    "with open (f\"{name}.csv\",'a') as allpckts:\n",
    "    pass"
   ]
  },
  {
   "cell_type": "code",
   "execution_count": 72,
   "metadata": {},
   "outputs": [],
   "source": [
    "#Define a function to fetch your zodiac sign\"\n",
    "def zodiac_sign(day, month):\n",
    "    if month == 12:\n",
    "        astro_sign = 'sagittarius' if (day < 22) else 'capricorn'\n",
    "    elif month == 1:\n",
    "        astro_sign = 'capricorn' if (day < 20) else 'aquarius'\n",
    "    elif month == 2:\n",
    "        astro_sign = 'aquarius' if (day < 19) else 'pisces'\n",
    "    elif month == 3:\n",
    "      astro_sign = 'pisces' if (day < 21) else 'aries'\n",
    "    elif month == 4:\n",
    "        astro_sign = 'aries' if (day < 20) else 'taurus'\n",
    "    elif month == 5:\n",
    "      astro_sign = 'taurus' if (day < 21) else 'gemini'\n",
    "    elif month == 6:\n",
    "        astro_sign = 'gemini' if (day < 21) else 'cancer'\n",
    "    elif month == 7:\n",
    "        astro_sign = 'cancer' if (day < 23) else 'leo'\n",
    "    elif month == 8:\n",
    "        astro_sign = 'leo' if (day < 23) else 'virgo'\n",
    "    elif month == 9:\n",
    "        astro_sign = 'virgo' if (day < 23) else 'libra'\n",
    "    elif month == 10:\n",
    "        astro_sign = 'libra' if (day < 23) else 'scorpio'\n",
    "    elif month == 11:\n",
    "        astro_sign = 'scorpio' if (day < 22) else 'sagittarius'\n",
    "    return(astro_sign)\n"
   ]
  },
  {
   "cell_type": "markdown",
   "metadata": {},
   "source": [
    "<h1>Enter your Birthday</h1>\n",
    "<h2>A window will appear at the top of the screen prompting you for your birthday information. First, enter the number representing the month of your birth (e.g. January = 1) with NO leading zeros. Next, enter the day of your birth (e.g. the 1rst = 1), with NO leading zeros.</h2>"
   ]
  },
  {
   "cell_type": "code",
   "execution_count": 73,
   "metadata": {},
   "outputs": [],
   "source": [
    "#collect info to determine your zodiac sign\n",
    "month=input(\"Enter the number of your birth month. Do not include leading zeros.\")\n",
    "day=input(\"Next, enter the number of your birth day. Do not include leading zeros.\")\n"
   ]
  },
  {
   "cell_type": "code",
   "execution_count": 74,
   "metadata": {},
   "outputs": [],
   "source": [
    "#get your sign\n",
    "sign=zodiac_sign(int(day),int(month))"
   ]
  },
  {
   "cell_type": "code",
   "execution_count": 75,
   "metadata": {},
   "outputs": [
    {
     "data": {
      "text/plain": [
       "'Cancer'"
      ]
     },
     "execution_count": 75,
     "metadata": {},
     "output_type": "execute_result"
    }
   ],
   "source": [
    "#test your sign (running this cell should output your zodiac sign. If this is not the case, start over and try again.)\n",
    "\n",
    "sign.title()"
   ]
  },
  {
   "cell_type": "code",
   "execution_count": 76,
   "metadata": {},
   "outputs": [
    {
     "data": {
      "text/plain": [
       "['sagittarius',\n",
       " 'capricorn',\n",
       " 'aquarius',\n",
       " 'pisces',\n",
       " 'aries',\n",
       " 'taurus',\n",
       " 'gemini',\n",
       " 'cancer',\n",
       " 'leo',\n",
       " 'virgo',\n",
       " 'libra',\n",
       " 'scorpio']"
      ]
     },
     "execution_count": 76,
     "metadata": {},
     "output_type": "execute_result"
    }
   ],
   "source": [
    "zodiaclist=[\"sagittarius\", \"capricorn\", \"aquarius\", \"pisces\", \"aries\", \"taurus\", \"gemini\", \"cancer\", \"leo\", \"virgo\", \"libra\", \"scorpio\"]\n",
    "zodiaclist"
   ]
  },
  {
   "cell_type": "code",
   "execution_count": 77,
   "metadata": {},
   "outputs": [],
   "source": [
    "#Get 4 Wrong Answers\n",
    "wronglist=[item for item in zodiaclist if item != sign]\n",
    "fakes=[]\n",
    "for i in range(4):\n",
    "    onefake=random.choice(wronglist)\n",
    "    fakes.append(onefake)\n",
    "    wronglist.remove(onefake)"
   ]
  },
  {
   "cell_type": "code",
   "execution_count": 78,
   "metadata": {},
   "outputs": [],
   "source": [
    "#Get a randomly shuffled list of four zodiac signs, one of which is correct\n",
    "testlist=[]\n",
    "for item in fakes:\n",
    "    testlist.append(item)\n",
    "testlist.append(sign)\n",
    "random.shuffle(testlist)"
   ]
  },
  {
   "cell_type": "code",
   "execution_count": 79,
   "metadata": {},
   "outputs": [],
   "source": [
    "guessdict={}\n",
    "for i in range(len(testlist)):\n",
    "    guessdict[i]= testlist[i]"
   ]
  },
  {
   "cell_type": "code",
   "execution_count": 80,
   "metadata": {},
   "outputs": [
    {
     "name": "stdout",
     "output_type": "stream",
     "text": [
      "CHOICE NUMBER 1\n",
      "----------------\n",
      "MOOD: Leading\n",
      "Reading: A stroke of genius hits you, probably quite early, and you feel inspired to get to work right away. It's a good time for you to get others to sign on for your big project -- they want to be part of it!\n",
      "\n",
      "\n",
      "CHOICE NUMBER 2\n",
      "----------------\n",
      "MOOD: Thoughtful\n",
      "Reading: Your thinking is far clearer than usual -- even if you still feel confused! It's a great time to write things down and order your thoughts in a way that helps you feel more confident about the future.\n",
      "\n",
      "\n",
      "CHOICE NUMBER 3\n",
      "----------------\n",
      "MOOD: Busy\n",
      "Reading: You need a personal assistance or someone else to sweat the details -- you've got too much going on! In fact, you need to shift your focus to the big picture as soon as you possibly can.\n",
      "\n",
      "\n",
      "CHOICE NUMBER 4\n",
      "----------------\n",
      "MOOD: Patient\n",
      "Reading: This is not the time to sign anything -- you need to pull back and inspect the deal more thoroughly first, Even if it all looks good, put off any final agreements until tomorrow or even later.\n",
      "\n",
      "\n",
      "CHOICE NUMBER 5\n",
      "----------------\n",
      "MOOD: Responsible\n",
      "Reading: One more thing lands in your lap early today, and that might be the one that makes you wonder why you bother. Don't give up -- but do take time out to regroup and confront all your projects with a fresh approach.\n",
      "\n",
      "\n"
     ]
    }
   ],
   "source": [
    "#Get readings from every entry on the testlist, and assign a number to each possible guess\n",
    "for i in range(5):\n",
    "    params = (\n",
    "('sign', testlist[i]),\n",
    "('day', 'today'),\n",
    ")\n",
    "\n",
    "    results=requests.post('https://aztro.sameerkumar.website/', params=params)\n",
    "    results_json=api_json = results.json()\n",
    "    print(f\"CHOICE NUMBER {i+1}\")\n",
    "    print (\"----------------\")\n",
    "    mood=results_json[\"mood\"]\n",
    "    print(f\"MOOD: {mood}\")\n",
    "    reading=results_json[\"description\"]\n",
    "    print(f\"Reading: {reading}\")\n",
    "    print(\"\\n\")\n",
    "\n",
    "\n",
    "\n"
   ]
  },
  {
   "cell_type": "markdown",
   "metadata": {},
   "source": [
    "<h1>Make your guess!</h2>\n",
    "<h2>Remember, you have a 1/5th (20%) chance of getting this right. That's better than a dice roll! To really test the accuracy of your hororscopes, you must repeat this over the course of many days. The ideal number of trials is 30, but for a test like this, 15 will probably be more than enough.</h2>\n"
   ]
  },
  {
   "cell_type": "code",
   "execution_count": 82,
   "metadata": {},
   "outputs": [
    {
     "name": "stdout",
     "output_type": "stream",
     "text": [
      "Sorry! Today you picked the incorrect astrology sign.\n",
      "Your Real Sign: Cancer \n",
      "Your Guess: Aquarius\n"
     ]
    }
   ],
   "source": [
    "make_guess=int(input(\"Type the number of your choice. Which zodiac reading sounds the most accurate to you?\"))-1\n",
    "\n",
    "\n",
    "if guessdict[make_guess]==sign:\n",
    "    print (\"Congratulations! You were able to identify your real astrology sign today!\")\n",
    "else:\n",
    "    print(\"Sorry! Today you picked the incorrect astrology sign.\")\n",
    "\n",
    "#This is the sign you picked\n",
    "print(f\"Your Real Sign: {sign.title()} \")\n",
    "your_guess=testlist[make_guess]\n",
    "print(f\"Your Guess: {your_guess.title()}\")\n",
    "\n",
    "\n",
    "#Generate today's datapoint\n",
    "today = date.today()\n",
    "correct = guessdict[make_guess]==sign\n",
    "correct_num = 0\n",
    "if guessdict[make_guess]==sign:\n",
    "    correct = 1\n",
    "\n",
    "datapoint=[today,sign,guessdict[make_guess], correct, correct_num,]\n",
    "\n",
    "\n",
    "#record the data\n",
    "with open (f\"{name}.csv\",'a') as allpckts:\n",
    "        writer = csv.writer(allpckts)\n",
    "        writer.writerow(datapoint)"
   ]
  },
  {
   "cell_type": "code",
   "execution_count": null,
   "metadata": {},
   "outputs": [],
   "source": []
  },
  {
   "cell_type": "code",
   "execution_count": 83,
   "metadata": {},
   "outputs": [],
   "source": [
    "with open (f\"{name}.csv\",'a') as allpckts:\n",
    "        writer = csv.writer(allpckts)\n",
    "        writer.writerow(datapoint)"
   ]
  },
  {
   "cell_type": "code",
   "execution_count": 84,
   "metadata": {},
   "outputs": [
    {
     "name": "stdout",
     "output_type": "stream",
     "text": [
      "         Date True Sign Your Guess  You Right?  binary_rightness\n",
      "0  2021-07-03    cancer   aquarius       False                 0\n",
      "1  2021-07-03    cancer   aquarius       False                 0\n",
      "2  2021-07-03    cancer      virgo       False                 0\n",
      "3  2021-07-03    cancer      virgo       False                 0\n",
      "4  2021-07-03    cancer   aquarius       False                 0\n",
      "5  2021-07-03    cancer   aquarius       False                 0\n",
      "6  2021-07-03    cancer   aquarius       False                 0\n"
     ]
    }
   ],
   "source": [
    "#Examine your results for guesses so far\n",
    "data=pd.read_csv(f\"{name}.csv\" , names=[\"Date\",\"True Sign\",\"Your Guess\",\"You Right?\",\"binary_rightness\"])\n",
    "print(data)"
   ]
  },
  {
   "cell_type": "code",
   "execution_count": 87,
   "metadata": {},
   "outputs": [
    {
     "name": "stdout",
     "output_type": "stream",
     "text": [
      "Have you been cheating? There is more than one entry in here for the same date! Not to worry. I'll just delete those other tries for you.\n"
     ]
    }
   ],
   "source": [
    "cleandf=pd.DataFrame(columns = [\"Date\",\"True Sign\",\"Your Guess\",\"You Right?\",\"binary_rightness\"])\n",
    "#No cheating! First, we must erase every attempt you made on the same date except for your first try :) .\n",
    "uniquedates=data[\"Date\"].unique()\n",
    "for item in uniquedates:\n",
    "    firsttry=data[data.Date == item].head(1)\n",
    "    cleandf=cleandf.append(firsttry)\n",
    "if len(uniquedates)<len(data):\n",
    "    print(\"Have you been cheating? There is more than one entry in here for the same date! Not to worry. I'll just delete those other tries for you.\")\n"
   ]
  },
  {
   "cell_type": "code",
   "execution_count": 53,
   "metadata": {},
   "outputs": [
    {
     "data": {
      "text/html": [
       "<div>\n",
       "<style scoped>\n",
       "    .dataframe tbody tr th:only-of-type {\n",
       "        vertical-align: middle;\n",
       "    }\n",
       "\n",
       "    .dataframe tbody tr th {\n",
       "        vertical-align: top;\n",
       "    }\n",
       "\n",
       "    .dataframe thead th {\n",
       "        text-align: right;\n",
       "    }\n",
       "</style>\n",
       "<table border=\"1\" class=\"dataframe\">\n",
       "  <thead>\n",
       "    <tr style=\"text-align: right;\">\n",
       "      <th></th>\n",
       "      <th>Date</th>\n",
       "      <th>True Sign</th>\n",
       "      <th>Your Guess</th>\n",
       "      <th>You Right?</th>\n",
       "      <th>binary_rightness</th>\n",
       "    </tr>\n",
       "  </thead>\n",
       "  <tbody>\n",
       "    <tr>\n",
       "      <th>0</th>\n",
       "      <td>2021-07-03</td>\n",
       "      <td>cancer</td>\n",
       "      <td>sagittarius</td>\n",
       "      <td>False</td>\n",
       "      <td>0</td>\n",
       "    </tr>\n",
       "    <tr>\n",
       "      <th>1</th>\n",
       "      <td>2021-08-03</td>\n",
       "      <td>cancer</td>\n",
       "      <td>sagittarius</td>\n",
       "      <td>False</td>\n",
       "      <td>1</td>\n",
       "    </tr>\n",
       "    <tr>\n",
       "      <th>2</th>\n",
       "      <td>2021-09-03</td>\n",
       "      <td>cancer</td>\n",
       "      <td>leo</td>\n",
       "      <td>False</td>\n",
       "      <td>1</td>\n",
       "    </tr>\n",
       "    <tr>\n",
       "      <th>3</th>\n",
       "      <td>2021-10-03</td>\n",
       "      <td>cancer</td>\n",
       "      <td>leo</td>\n",
       "      <td>False</td>\n",
       "      <td>0</td>\n",
       "    </tr>\n",
       "    <tr>\n",
       "      <th>4</th>\n",
       "      <td>2021-11-03</td>\n",
       "      <td>cancer</td>\n",
       "      <td>sagittarius</td>\n",
       "      <td>False</td>\n",
       "      <td>1</td>\n",
       "    </tr>\n",
       "    <tr>\n",
       "      <th>5</th>\n",
       "      <td>2021-12-03</td>\n",
       "      <td>cancer</td>\n",
       "      <td>sagittarius</td>\n",
       "      <td>False</td>\n",
       "      <td>1</td>\n",
       "    </tr>\n",
       "    <tr>\n",
       "      <th>6</th>\n",
       "      <td>2021-13-03</td>\n",
       "      <td>cancer</td>\n",
       "      <td>leo</td>\n",
       "      <td>False</td>\n",
       "      <td>1</td>\n",
       "    </tr>\n",
       "    <tr>\n",
       "      <th>7</th>\n",
       "      <td>2021-14-03</td>\n",
       "      <td>cancer</td>\n",
       "      <td>leo</td>\n",
       "      <td>False</td>\n",
       "      <td>1</td>\n",
       "    </tr>\n",
       "    <tr>\n",
       "      <th>8</th>\n",
       "      <td>2021-15-03</td>\n",
       "      <td>cancer</td>\n",
       "      <td>sagittarius</td>\n",
       "      <td>False</td>\n",
       "      <td>0</td>\n",
       "    </tr>\n",
       "    <tr>\n",
       "      <th>9</th>\n",
       "      <td>2021-16-03</td>\n",
       "      <td>cancer</td>\n",
       "      <td>sagittarius</td>\n",
       "      <td>False</td>\n",
       "      <td>1</td>\n",
       "    </tr>\n",
       "    <tr>\n",
       "      <th>10</th>\n",
       "      <td>2021-17-03</td>\n",
       "      <td>cancer</td>\n",
       "      <td>leo</td>\n",
       "      <td>False</td>\n",
       "      <td>1</td>\n",
       "    </tr>\n",
       "    <tr>\n",
       "      <th>11</th>\n",
       "      <td>2021-18-03</td>\n",
       "      <td>cancer</td>\n",
       "      <td>leo</td>\n",
       "      <td>False</td>\n",
       "      <td>0</td>\n",
       "    </tr>\n",
       "  </tbody>\n",
       "</table>\n",
       "</div>"
      ],
      "text/plain": [
       "          Date True Sign   Your Guess You Right? binary_rightness\n",
       "0   2021-07-03    cancer  sagittarius      False                0\n",
       "1   2021-08-03    cancer  sagittarius      False                1\n",
       "2   2021-09-03    cancer          leo      False                1\n",
       "3   2021-10-03    cancer          leo      False                0\n",
       "4   2021-11-03    cancer  sagittarius      False                1\n",
       "5   2021-12-03    cancer  sagittarius      False                1\n",
       "6   2021-13-03    cancer          leo      False                1\n",
       "7   2021-14-03    cancer          leo      False                1\n",
       "8   2021-15-03    cancer  sagittarius      False                0\n",
       "9   2021-16-03    cancer  sagittarius      False                1\n",
       "10  2021-17-03    cancer          leo      False                1\n",
       "11  2021-18-03    cancer          leo      False                0"
      ]
     },
     "execution_count": 53,
     "metadata": {},
     "output_type": "execute_result"
    }
   ],
   "source": [
    "cleandf"
   ]
  },
  {
   "cell_type": "code",
   "execution_count": 54,
   "metadata": {},
   "outputs": [],
   "source": [
    "binary_list=[]\n",
    "for item in cleandf[\"binary_rightness\"]:\n",
    "    binary_list.append(item)"
   ]
  },
  {
   "cell_type": "code",
   "execution_count": 88,
   "metadata": {},
   "outputs": [
    {
     "name": "stdout",
     "output_type": "stream",
     "text": [
      "You guessed correctly 0.0% of the time. If your guesses were only as good as random chance, you would be right approximately 20% of the time.\n",
      "You took this test on 12 different days. For maximally rigorous results, you must take this test on at least 30 different days.\n",
      "The probability that your guesses are only as good as random chance is 0.007291046572942858.\n",
      "Your guesses are significantly different from random chance, but... oops! You guessed worse than random chance would predict! You were less likely to identify the correct horoscope for yourself with the help of these descriptions than you would have been with your eyes closed!\n",
      "RESULT: INCONCLUSIVE. Test must be taken on 18 more days.\n"
     ]
    }
   ],
   "source": [
    "pvalue=stats.ttest_1samp(binary_list,0.20)[1]\n",
    "N=len(binary_list)\n",
    "percent = cleandf[\"binary_rightness\"].mean() *100\n",
    "result=f\"INCONCLUSIVE. Test must be taken on {30 - N} more days.\"\n",
    "print(f\"You guessed correctly {percent}% of the time. If your guesses were only as good as random chance, you would be right approximately 20% of the time.\")\n",
    "print(f\"You took this test on {N} different days. For maximally rigorous results, you must take this test on at least 30 different days.\")\n",
    "print(f\"The probability that your guesses are only as good as random chance is {pvalue}.\")\n",
    "if pvalue<0.05:\n",
    "    if percent>0.25:\n",
    "        print(\"So far, your guesses are were more accurate than random chance! Congratulations!\")\n",
    "        if N<30:\n",
    "            print(f\"However, you have only completed this test on {N} days so far. You must complete it at on at least 30 different days for it to be conclusive.\")\n",
    "        else: \n",
    "            print(f\"You have completed this test {N} times so far, which is greater than the minimum of 30 days needed for a rigorous test! Congratulations! You have produced scientific evidence that horoscopes are accurate! I hope that you recorded proof that you followed the directions, because the scientific community will be extatic to learn about this momentus discovery. You will be famous!\")\n",
    "            result = \"Reject the Null Hypothesis. Horoscopes might be real!\"\n",
    "    else:\n",
    "        print(\"Your guesses are significantly different from random chance, but... oops! You guessed worse than random chance would predict! You were less likely to identify the correct horoscope for yourself with the help of these descriptions than you would have been with your eyes closed!\")\n",
    "else:\n",
    "    print(\"So far, your guesses are not significantly different than random chance. Sorry!\")\n",
    "    if N<30:\n",
    "            print(f\"However, you have only completed this test on {N} days so far. You must complete it at on at least 30 different days for it to be conclusive. Keep taking the test! You still have a chance!\")\n",
    "    else:\n",
    "        print(\"You took this test for at least 30 days, and you were still unable to guess your horoscope better than random chance. Sorry, but the weight of the scientific evidence points to the fact that these horoscopes simply didn't describe your day accurately. Perhaps horoscopes are not real after all.\")\n",
    "        result = \"Fail to reject the Null Hypothesis. Horoscopes are probably not real.\"    \n",
    "\n",
    "print(f\"RESULT: {result}\")\n"
   ]
  },
  {
   "cell_type": "code",
   "execution_count": null,
   "metadata": {},
   "outputs": [],
   "source": []
  }
 ],
 "metadata": {
  "interpreter": {
   "hash": "566c7dc836cf49ea79a80bde3a77d731ae67019fab1def2dd83c01090ce827fd"
  },
  "kernelspec": {
   "display_name": "Python 3.8.5 64-bit ('DataViz': conda)",
   "name": "python3"
  },
  "language_info": {
   "codemirror_mode": {
    "name": "ipython",
    "version": 3
   },
   "file_extension": ".py",
   "mimetype": "text/x-python",
   "name": "python",
   "nbconvert_exporter": "python",
   "pygments_lexer": "ipython3",
   "version": "3.8.5"
  },
  "orig_nbformat": 2
 },
 "nbformat": 4,
 "nbformat_minor": 2
}