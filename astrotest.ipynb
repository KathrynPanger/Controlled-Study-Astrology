{
 "metadata": {
  "language_info": {
   "codemirror_mode": {
    "name": "ipython",
    "version": 3
   },
   "file_extension": ".py",
   "mimetype": "text/x-python",
   "name": "python",
   "nbconvert_exporter": "python",
   "pygments_lexer": "ipython3",
   "version": "3.8.5"
  },
  "orig_nbformat": 2,
  "kernelspec": {
   "name": "python385jvsc74a57bd09a492a932a5bed98d6f8e1b5f1ae1d46b2b5df4ebd9e59fb2d1181a1f217f2fd",
   "display_name": "Python 3.8.5 64-bit ('base': conda)"
  }
 },
 "nbformat": 4,
 "nbformat_minor": 2,
 "cells": [
  {
   "cell_type": "code",
   "execution_count": 241,
   "metadata": {},
   "outputs": [],
   "source": [
    "import requests\n",
    "import json\n",
    "import pandas as pd\n",
    "from datetime import date"
   ]
  },
  {
   "cell_type": "code",
   "execution_count": 213,
   "metadata": {},
   "outputs": [],
   "source": [
    "#Define a function to fetch your zodiac sign\"\n",
    "def zodiac_sign(day, month):\n",
    "    if month == 12:\n",
    "        astro_sign = 'sagittarius' if (day < 22) else 'capricorn'\n",
    "    elif month == 1:\n",
    "        astro_sign = 'capricorn' if (day < 20) else 'aquarius'\n",
    "    elif month == 2:\n",
    "        astro_sign = 'aquarius' if (day < 19) else 'pisces'\n",
    "    elif month == 3:\n",
    "      astro_sign = 'pisces' if (day < 21) else 'aries'\n",
    "    elif month == 4:\n",
    "        astro_sign = 'aries' if (day < 20) else 'taurus'\n",
    "    elif month == 5:\n",
    "      astro_sign = 'taurus' if (day < 21) else 'gemini'\n",
    "    elif month == 6:\n",
    "        astro_sign = 'gemini' if (day < 21) else 'cancer'\n",
    "    elif month == 7:\n",
    "        astro_sign = 'cancer' if (day < 23) else 'leo'\n",
    "    elif month == 8:\n",
    "        astro_sign = 'leo' if (day < 23) else 'virgo'\n",
    "    elif month == 9:\n",
    "        astro_sign = 'virgo' if (day < 23) else 'libra'\n",
    "    elif month == 10:\n",
    "        astro_sign = 'libra' if (day < 23) else 'scorpio'\n",
    "    elif month == 11:\n",
    "        astro_sign = 'scorpio' if (day < 22) else 'sagittarius'\n",
    "    return(astro_sign)\n"
   ]
  },
  {
   "cell_type": "code",
   "execution_count": 214,
   "metadata": {},
   "outputs": [],
   "source": [
    "#collect info to determine your zodiac sign\n",
    "month=input(\"Enter the number of your birth month. Do not include leading zeros.\")\n",
    "day=input(\"Next, enter the number of your birth day. Do not include leading zeros.\")\n"
   ]
  },
  {
   "cell_type": "code",
   "execution_count": 215,
   "metadata": {},
   "outputs": [],
   "source": [
    "#get your sign\n",
    "sign=zodiac_sign(int(day),int(month))"
   ]
  },
  {
   "cell_type": "code",
   "execution_count": 179,
   "metadata": {},
   "outputs": [],
   "source": [
    "#Get your true reading\n",
    "params = (\n",
    "('sign', sign),\n",
    "('day', 'today'),\n",
    ")\n",
    "\n",
    "true_results=requests.post('https://aztro.sameerkumar.website/', params=params)\n",
    "true_results_json=api_json = results.json()\n"
   ]
  },
  {
   "cell_type": "code",
   "execution_count": 216,
   "metadata": {},
   "outputs": [],
   "source": [
    "#Get 3 Wrong Guesses\n",
    "zodiaclist=[\"sagittarius\", \"capricorn\", \"aquarius\", \"pisces\", \"aries\", \"taurus\", \"gemini\", \"cancer\", \"leo\", \"virgo\", \"libra\", \"scorpio\"]\n",
    "zodiaclist.remove(sign)\n",
    "wronglist=[]\n",
    "for i in range(3):\n",
    "    compguess=random.choice(zodiaclist)\n",
    "    wronglist.append(compguess)"
   ]
  },
  {
   "cell_type": "code",
   "execution_count": 217,
   "metadata": {},
   "outputs": [],
   "source": [
    "#Get a randomly shuffled list of four zodiac signs, one of which is correct\n",
    "testlist=wronglist\n",
    "testlist.append(sign)\n",
    "random.shuffle(testlist)"
   ]
  },
  {
   "cell_type": "code",
   "execution_count": 229,
   "metadata": {},
   "outputs": [
    {
     "output_type": "stream",
     "name": "stdout",
     "text": [
      "CHOICE NUMBER 1\n",
      "----------------\n",
      "MOOD: Determined\n",
      "Reading: You may be fired up for action (as usual), but the day's energy pretty much guarantees that any movement is slow and bumpy. Try to settle down and let it happen -- things pick up soon!\n",
      "\n",
      "\n",
      "CHOICE NUMBER 2\n",
      "----------------\n",
      "MOOD: Smart\n",
      "Reading: Focus your intellectual energy on low-key matters -- you've got to make sure that you're taking in as much as possible! You should get one major clue about an unseen force that affects you deeply.\n",
      "\n",
      "\n",
      "CHOICE NUMBER 3\n",
      "----------------\n",
      "MOOD: Energetic\n",
      "Reading: It's a time of pretty intense healing for you -- even if you thought you were perfectly fine! Your amazing energy is hard at work putting everything right inside and outside, so kick back and let it happen!\n",
      "\n",
      "\n",
      "CHOICE NUMBER 4\n",
      "----------------\n",
      "MOOD: Smart\n",
      "Reading: Focus your intellectual energy on low-key matters -- you've got to make sure that you're taking in as much as possible! You should get one major clue about an unseen force that affects you deeply.\n",
      "\n",
      "\n"
     ]
    }
   ],
   "source": [
    "#Get readings from every entry on the testlist, and assign a number to each possible guess\n",
    "for i in range(4):\n",
    "    params = (\n",
    "('sign', testlist[i]),\n",
    "('day', 'today'),\n",
    ")\n",
    "\n",
    "    results=requests.post('https://aztro.sameerkumar.website/', params=params)\n",
    "    results_json=api_json = results.json()\n",
    "    print(f\"CHOICE NUMBER {i+1}\")\n",
    "    print (\"----------------\")\n",
    "    mood=results_json[\"mood\"]\n",
    "    print(f\"MOOD: {mood}\")\n",
    "    reading=results_json[\"description\"]\n",
    "    print(f\"Reading: {reading}\")\n",
    "    print(\"\\n\")\n",
    "\n",
    "\n",
    "\n"
   ]
  },
  {
   "cell_type": "code",
   "execution_count": 230,
   "metadata": {},
   "outputs": [],
   "source": [
    "#Make your guess!\n",
    "make_guess=input(\"Type the number of your choice. Which zodiac reading sounds the most accurate to you?\")"
   ]
  },
  {
   "cell_type": "code",
   "execution_count": 235,
   "metadata": {},
   "outputs": [
    {
     "output_type": "stream",
     "name": "stdout",
     "text": [
      "Your Real Sign: Cancer \nYour Guess: Taurus\n"
     ]
    }
   ],
   "source": [
    "#This is the sign you picked\n",
    "print(f\"Your Real Sign: {sign.title()} \")\n",
    "your_guess=testlist[int(make_guess)-1]\n",
    "print(f\"Your Guess: {your_guess.title()}\")\n"
   ]
  },
  {
   "cell_type": "code",
   "execution_count": 247,
   "metadata": {},
   "outputs": [
    {
     "output_type": "stream",
     "name": "stdout",
     "text": [
      "2021-04-22\n"
     ]
    }
   ],
   "source": [
    "#Generate today's datapoint\n",
    "today = date.today()\n",
    "print(today)\n",
    "guess_correct=sign==your_guess\n",
    "datapoint=[today,sign,your_guess, guess_correct, ]"
   ]
  },
  {
   "cell_type": "code",
   "execution_count": 131,
   "metadata": {},
   "outputs": [],
   "source": [
    "guesslog=pd.DataFrame(columns=[\"Date\",\"Right Answer\", \"Your Guess\", \"Your Guess Correct?\", \"Random Guess\",  \"Random Guess Correct?\"])"
   ]
  },
  {
   "cell_type": "code",
   "execution_count": 135,
   "metadata": {},
   "outputs": [
    {
     "output_type": "error",
     "ename": "TypeError",
     "evalue": "'type' object does not support item assignment",
     "traceback": [
      "\u001b[0;31m---------------------------------------------------------------------------\u001b[0m",
      "\u001b[0;31mTypeError\u001b[0m                                 Traceback (most recent call last)",
      "\u001b[0;32m<ipython-input-135-f31d725f8939>\u001b[0m in \u001b[0;36m<module>\u001b[0;34m\u001b[0m\n\u001b[0;32m----> 1\u001b[0;31m \u001b[0mtodaylog\u001b[0m\u001b[0;34m=\u001b[0m\u001b[0mpd\u001b[0m\u001b[0;34m.\u001b[0m\u001b[0mDataFrame\u001b[0m\u001b[0;34m[\u001b[0m\u001b[0;34m\"Date\"\u001b[0m\u001b[0;34m]\u001b[0m\u001b[0;34m=\u001b[0m\u001b[0;36m12\u001b[0m\u001b[0;34m\u001b[0m\u001b[0;34m\u001b[0m\u001b[0m\n\u001b[0m",
      "\u001b[0;31mTypeError\u001b[0m: 'type' object does not support item assignment"
     ]
    }
   ],
   "source": [
    "todaylog = pd.DataFrame(\n",
    "   ...:     {\n",
    "   ...:         \"Date\": [f\"{month}/{day}\"],\n",
    "   ...:         \"Right Answer\": [astro_sign[0]],\n",
    "   ...:         \"Your Guess\": [guess],\n",
    "   ...:         \"D\": [\"D4\", \"D5\", \"D6\", \"D7\"],\n",
    "   ...:     },\n",
    "   ...:     index=[4, 5, 6, 7],"
   ]
  },
  {
   "cell_type": "code",
   "execution_count": 244,
   "metadata": {},
   "outputs": [
    {
     "output_type": "execute_result",
     "data": {
      "text/plain": [
       "False"
      ]
     },
     "metadata": {},
     "execution_count": 244
    }
   ],
   "source": [
    "guess_correct"
   ]
  },
  {
   "cell_type": "code",
   "execution_count": null,
   "metadata": {},
   "outputs": [],
   "source": []
  }
 ]
}