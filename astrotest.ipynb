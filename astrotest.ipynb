{
 "cells": [
  {
   "cell_type": "code",
   "execution_count": 147,
   "metadata": {},
   "outputs": [],
   "source": [
    "import requests\n",
    "import json\n",
    "import pandas as pd\n",
    "from datetime import date\n",
    "import csv\n",
    "import random\n",
    "from scipy import stats"
   ]
  },
  {
   "cell_type": "code",
   "execution_count": 34,
   "metadata": {},
   "outputs": [],
   "source": [
    "#Open your log of previous guesses (or begin a new one) using your first name as the file name. This log will be used to track your results over time and determine your accuracy.\n",
    "name=input(\"What is your first name?.\")\n",
    "with open (f\"{name}.csv\",'a') as allpckts:\n",
    "    pass"
   ]
  },
  {
   "cell_type": "code",
   "execution_count": 35,
   "metadata": {},
   "outputs": [],
   "source": [
    "#Define a function to fetch your zodiac sign\"\n",
    "def zodiac_sign(day, month):\n",
    "    if month == 12:\n",
    "        astro_sign = 'sagittarius' if (day < 22) else 'capricorn'\n",
    "    elif month == 1:\n",
    "        astro_sign = 'capricorn' if (day < 20) else 'aquarius'\n",
    "    elif month == 2:\n",
    "        astro_sign = 'aquarius' if (day < 19) else 'pisces'\n",
    "    elif month == 3:\n",
    "      astro_sign = 'pisces' if (day < 21) else 'aries'\n",
    "    elif month == 4:\n",
    "        astro_sign = 'aries' if (day < 20) else 'taurus'\n",
    "    elif month == 5:\n",
    "      astro_sign = 'taurus' if (day < 21) else 'gemini'\n",
    "    elif month == 6:\n",
    "        astro_sign = 'gemini' if (day < 21) else 'cancer'\n",
    "    elif month == 7:\n",
    "        astro_sign = 'cancer' if (day < 23) else 'leo'\n",
    "    elif month == 8:\n",
    "        astro_sign = 'leo' if (day < 23) else 'virgo'\n",
    "    elif month == 9:\n",
    "        astro_sign = 'virgo' if (day < 23) else 'libra'\n",
    "    elif month == 10:\n",
    "        astro_sign = 'libra' if (day < 23) else 'scorpio'\n",
    "    elif month == 11:\n",
    "        astro_sign = 'scorpio' if (day < 22) else 'sagittarius'\n",
    "    return(astro_sign)\n"
   ]
  },
  {
   "cell_type": "markdown",
   "metadata": {},
   "source": [
    "<h1>Enter your Birthday</h1>\n",
    "<h2>A window will appear at the top of the screen prompting you for your birthday information. First, enter the number representing the month of your birth (e.g. January = 1) with NO leading zeros. Next, enter the day of your birth (e.g. the 1rst = 1), with NO leading zeros</h2>"
   ]
  },
  {
   "cell_type": "code",
   "execution_count": 38,
   "metadata": {},
   "outputs": [],
   "source": [
    "#collect info to determine your zodiac sign\n",
    "month=input(\"Enter the number of your birth month. Do not include leading zeros.\")\n",
    "day=input(\"Next, enter the number of your birth day. Do not include leading zeros.\")\n"
   ]
  },
  {
   "cell_type": "code",
   "execution_count": 39,
   "metadata": {},
   "outputs": [],
   "source": [
    "#get your sign\n",
    "sign=zodiac_sign(int(day),int(month))"
   ]
  },
  {
   "cell_type": "code",
   "execution_count": 144,
   "metadata": {},
   "outputs": [
    {
     "data": {
      "text/plain": [
       "'Cancer'"
      ]
     },
     "execution_count": 144,
     "metadata": {},
     "output_type": "execute_result"
    }
   ],
   "source": [
    "#test your sign (running this cell should output your zodiac sign. If this is not the case, start over and try again.)\n",
    "sign.title()"
   ]
  },
  {
   "cell_type": "code",
   "execution_count": 132,
   "metadata": {},
   "outputs": [
    {
     "data": {
      "text/plain": [
       "['sagittarius',\n",
       " 'capricorn',\n",
       " 'aquarius',\n",
       " 'pisces',\n",
       " 'aries',\n",
       " 'taurus',\n",
       " 'gemini',\n",
       " 'cancer',\n",
       " 'leo',\n",
       " 'virgo',\n",
       " 'libra',\n",
       " 'scorpio']"
      ]
     },
     "execution_count": 132,
     "metadata": {},
     "output_type": "execute_result"
    }
   ],
   "source": [
    "zodiaclist=[\"sagittarius\", \"capricorn\", \"aquarius\", \"pisces\", \"aries\", \"taurus\", \"gemini\", \"cancer\", \"leo\", \"virgo\", \"libra\", \"scorpio\"]\n",
    "zodiaclist"
   ]
  },
  {
   "cell_type": "code",
   "execution_count": 133,
   "metadata": {},
   "outputs": [],
   "source": [
    "#Get 4 Wrong Answers\n",
    "wronglist=[item for item in zodiaclist if item != sign]\n",
    "fakes=[]\n",
    "for i in range(4):\n",
    "    onefake=random.choice(wronglist)\n",
    "    fakes.append(onefake)\n",
    "    wronglist.remove(onefake)"
   ]
  },
  {
   "cell_type": "code",
   "execution_count": 134,
   "metadata": {},
   "outputs": [
    {
     "data": {
      "text/plain": [
       "['sagittarius',\n",
       " 'capricorn',\n",
       " 'aquarius',\n",
       " 'pisces',\n",
       " 'aries',\n",
       " 'taurus',\n",
       " 'gemini',\n",
       " 'cancer',\n",
       " 'leo',\n",
       " 'virgo',\n",
       " 'libra',\n",
       " 'scorpio']"
      ]
     },
     "execution_count": 134,
     "metadata": {},
     "output_type": "execute_result"
    }
   ],
   "source": [
    "zodiaclist"
   ]
  },
  {
   "cell_type": "code",
   "execution_count": 135,
   "metadata": {},
   "outputs": [],
   "source": [
    "#Get a randomly shuffled list of four zodiac signs, one of which is correct\n",
    "testlist=[]\n",
    "for item in fakes:\n",
    "    testlist.append(item)\n",
    "testlist.append(sign)\n",
    "random.shuffle(testlist)"
   ]
  },
  {
   "cell_type": "code",
   "execution_count": 136,
   "metadata": {},
   "outputs": [],
   "source": [
    "guessdict={}\n",
    "for i in range(len(testlist)):\n",
    "    guessdict[i]= testlist[i]"
   ]
  },
  {
   "cell_type": "code",
   "execution_count": 137,
   "metadata": {},
   "outputs": [
    {
     "data": {
      "text/plain": [
       "{0: 'aries', 1: 'capricorn', 2: 'cancer', 3: 'taurus', 4: 'aquarius'}"
      ]
     },
     "execution_count": 137,
     "metadata": {},
     "output_type": "execute_result"
    }
   ],
   "source": [
    "guessdict"
   ]
  },
  {
   "cell_type": "code",
   "execution_count": 138,
   "metadata": {},
   "outputs": [
    {
     "name": "stdout",
     "output_type": "stream",
     "text": [
      "CHOICE NUMBER 1\n",
      "----------------\n",
      "MOOD: Patient\n",
      "Reading: Even though your friends are all talk today, you're not exasperated. In fact, you can listen to them banter and brag all day long without feeling restless -- it's just one of those days!\n",
      "\n",
      "\n",
      "CHOICE NUMBER 2\n",
      "----------------\n",
      "MOOD: Hopeful\n",
      "Reading: You stumble upon someone's scribbled note or unsent email that speaks to a part of you that you hadn't realized was still listening. It may intensify your romance or lead to something entirely new.\n",
      "\n",
      "\n",
      "CHOICE NUMBER 3\n",
      "----------------\n",
      "MOOD: Thoughtful\n",
      "Reading: Your thinking is far clearer than usual -- even if you still feel confused! It's a great time to write things down and order your thoughts in a way that helps you feel more confident about the future.\n",
      "\n",
      "\n",
      "CHOICE NUMBER 4\n",
      "----------------\n",
      "MOOD: Patient\n",
      "Reading: This is not the time to sign anything -- you need to pull back and inspect the deal more thoroughly first, Even if it all looks good, put off any final agreements until tomorrow or even later.\n",
      "\n",
      "\n",
      "CHOICE NUMBER 5\n",
      "----------------\n",
      "MOOD: Busy\n",
      "Reading: You need a personal assistance or someone else to sweat the details -- you've got too much going on! In fact, you need to shift your focus to the big picture as soon as you possibly can.\n",
      "\n",
      "\n"
     ]
    }
   ],
   "source": [
    "#Get readings from every entry on the testlist, and assign a number to each possible guess\n",
    "for i in range(5):\n",
    "    params = (\n",
    "('sign', testlist[i]),\n",
    "('day', 'today'),\n",
    ")\n",
    "\n",
    "    results=requests.post('https://aztro.sameerkumar.website/', params=params)\n",
    "    results_json=api_json = results.json()\n",
    "    print(f\"CHOICE NUMBER {i+1}\")\n",
    "    print (\"----------------\")\n",
    "    mood=results_json[\"mood\"]\n",
    "    print(f\"MOOD: {mood}\")\n",
    "    reading=results_json[\"description\"]\n",
    "    print(f\"Reading: {reading}\")\n",
    "    print(\"\\n\")\n",
    "\n",
    "\n",
    "\n"
   ]
  },
  {
   "cell_type": "markdown",
   "metadata": {},
   "source": [
    "<h1>Make your guess!</h2>\n",
    "<h2>Remember, you have a 1/5th (20%) chance of getting this right. That's better than a dice roll! To really test the accuracy of your hororscopes, you must repeat this over the course of many days. The ideal number of trials is 30, but for a test like this, 15 will probably be more than enough.</h2>\n"
   ]
  },
  {
   "cell_type": "code",
   "execution_count": 140,
   "metadata": {},
   "outputs": [
    {
     "name": "stdout",
     "output_type": "stream",
     "text": [
      "nope!\n"
     ]
    }
   ],
   "source": [
    "make_guess=int(input(\"Type the number of your choice. Which zodiac reading sounds the most accurate to you?\"))-1\n",
    "if guessdict[make_guess]==sign:\n",
    "    print (\"Congratulations! You were able to identify your real astrology sign today!\")\n",
    "else:\n",
    "    print(\"Sorry! Today you picked the incorrect astrology sign\")\n",
    "\n",
    "#This is the sign you picked\n",
    "print(f\"Your Real Sign: {sign.title()} \")\n",
    "your_guess=testlist[make_guess]\n",
    "print(f\"Your Guess: {your_guess.title()}\")\n",
    "\n",
    "\n",
    "#Generate today's datapoint\n",
    "today = date.today()\n",
    "correct = guessdict[make_guess]==sign:\n",
    "correct_num = 0\n",
    "if guessdict[make_guess]==sign:\n",
    "    correct = 1\n",
    "\n",
    "datapoint=[today,sign, correct, correct_num,]"
   ]
  },
  {
   "cell_type": "code",
   "execution_count": 142,
   "metadata": {},
   "outputs": [
    {
     "name": "stdout",
     "output_type": "stream",
     "text": [
      "Your Real Sign: Cancer \n",
      "Your Guess: Aries\n"
     ]
    }
   ],
   "source": [
    "#This is the sign you picked\n",
    "print(f\"Your Real Sign: {sign.title()} \")\n",
    "your_guess=testlist[make_guess]\n",
    "print(f\"Your Guess: {your_guess.title()}\")\n"
   ]
  },
  {
   "cell_type": "code",
   "execution_count": 74,
   "metadata": {},
   "outputs": [],
   "source": [
    "#Generate today's datapoint\n",
    "today = date.today()\n",
    "guess_correct=sign==your_guess\n",
    "guess_correct_val=0\n",
    "comp_correct_val=0\n",
    "if guess_correct==True:\n",
    "    guess_correct_val =1\n",
    "else:\n",
    "    guess_correct_val=0\n",
    "random_guess = compchoice\n",
    "comp_correct=random_guess==sign\n",
    "if comp_correct==True:\n",
    "    comp_correct_val=1\n",
    "else:\n",
    "    comp_correct_val=0\n",
    "\n",
    "datapoint=[today,sign,your_guess, guess_correct_val, random_guess, comp_correct_val]\n",
    "datapoint_df=pd.DataFrame(datapoint)"
   ]
  },
  {
   "cell_type": "code",
   "execution_count": 75,
   "metadata": {},
   "outputs": [],
   "source": [
    "with open (f\"{name}.csv\",'a') as allpckts:\n",
    "        writer = csv.writer(allpckts)\n",
    "        writer.writerow(datapoint)"
   ]
  },
  {
   "cell_type": "code",
   "execution_count": 76,
   "metadata": {},
   "outputs": [
    {
     "name": "stdout",
     "output_type": "stream",
     "text": [
      "         Date True Sign Your Guess You Right Random Guess Random Right\n",
      "0  2021-04-22    cancer   aquarius     False       cancer         True\n",
      "1  2021-04-22    cancer   aquarius     False       cancer         True\n",
      "2  2021-04-22    cancer   aquarius         0            1         True\n",
      "3  2021-04-22    cancer   aquarius         0         True            1\n",
      "4  2021-04-22    cancer   aquarius         0       cancer            1\n"
     ]
    }
   ],
   "source": [
    "#Examine your results for guesses so far\n",
    "data=pd.read_csv(f\"{name}.csv\" , names=[\"Date\",\"True Sign\",\"Your Guess\",\"You Right\",\"Random Guess\",\"Random Right\"])\n",
    "print(data)"
   ]
  },
  {
   "cell_type": "code",
   "execution_count": 80,
   "metadata": {},
   "outputs": [],
   "source": [
    "\n",
    "rightcol = data[\"You Right\"]\n",
    "compcol=data[\"Random Right\"]"
   ]
  },
  {
   "cell_type": "code",
   "execution_count": 85,
   "metadata": {},
   "outputs": [
    {
     "name": "stdout",
     "output_type": "stream",
     "text": [
      "So far, you have made correct guesses 0.0% of the time.\n"
     ]
    },
    {
     "ename": "ValueError",
     "evalue": "invalid literal for int() with base 10: 'True'",
     "output_type": "error",
     "traceback": [
      "\u001b[0;31m---------------------------------------------------------------------------\u001b[0m",
      "\u001b[0;31mValueError\u001b[0m                                Traceback (most recent call last)",
      "\u001b[0;32m<ipython-input-85-422aa79724b2>\u001b[0m in \u001b[0;36m<module>\u001b[0;34m\u001b[0m\n\u001b[1;32m     10\u001b[0m \u001b[0mcompcount\u001b[0m\u001b[0;34m=\u001b[0m\u001b[0;36m0\u001b[0m\u001b[0;34m\u001b[0m\u001b[0;34m\u001b[0m\u001b[0m\n\u001b[1;32m     11\u001b[0m \u001b[0;32mfor\u001b[0m \u001b[0mitem\u001b[0m \u001b[0;32min\u001b[0m \u001b[0mcompcol\u001b[0m\u001b[0;34m:\u001b[0m\u001b[0;34m\u001b[0m\u001b[0;34m\u001b[0m\u001b[0m\n\u001b[0;32m---> 12\u001b[0;31m     \u001b[0;32mif\u001b[0m \u001b[0mint\u001b[0m\u001b[0;34m(\u001b[0m\u001b[0mitem\u001b[0m\u001b[0;34m)\u001b[0m \u001b[0;34m==\u001b[0m \u001b[0;36m1\u001b[0m\u001b[0;34m:\u001b[0m\u001b[0;34m\u001b[0m\u001b[0;34m\u001b[0m\u001b[0m\n\u001b[0m\u001b[1;32m     13\u001b[0m         \u001b[0mcompcount\u001b[0m \u001b[0;34m+=\u001b[0m\u001b[0;36m1\u001b[0m\u001b[0;34m\u001b[0m\u001b[0;34m\u001b[0m\u001b[0m\n\u001b[1;32m     14\u001b[0m     \u001b[0;32melse\u001b[0m\u001b[0;34m:\u001b[0m\u001b[0;34m\u001b[0m\u001b[0;34m\u001b[0m\u001b[0m\n",
      "\u001b[0;31mValueError\u001b[0m: invalid literal for int() with base 10: 'True'"
     ]
    }
   ],
   "source": [
    "rightcount=0\n",
    "for item in rightcol:\n",
    "    if int(item) ==1:\n",
    "        rightcount +=1\n",
    "    else:\n",
    "        continue\n",
    "rightpercent = rightcount/n\n",
    "print(f\"So far, you have made correct guesses {rightpercent*11}% of the time.\")\n",
    "\n",
    "compcount=0\n",
    "for item in compcol:\n",
    "    if int(item) == 1:\n",
    "        compcount +=1\n",
    "    else:\n",
    "        continue\n",
    "comppercent = compcount/n\n",
    "print(f\"So far, random guessing by the computer has worked {comppercent*100}% of the time.\")\n",
    "\n"
   ]
  },
  {
   "cell_type": "code",
   "execution_count": 84,
   "metadata": {},
   "outputs": [
    {
     "data": {
      "text/plain": [
       "0    True\n",
       "1    True\n",
       "2    True\n",
       "3       1\n",
       "4       1\n",
       "Name: Random Right, dtype: object"
      ]
     },
     "execution_count": 84,
     "metadata": {},
     "output_type": "execute_result"
    }
   ],
   "source": [
    "compcol"
   ]
  },
  {
   "cell_type": "code",
   "execution_count": 152,
   "metadata": {},
   "outputs": [
    {
     "data": {
      "text/plain": [
       "0.35591768374958105"
      ]
     },
     "execution_count": 152,
     "metadata": {},
     "output_type": "execute_result"
    }
   ],
   "source": [
    "pvlaue=stats.ttest_1samp([array_of_truths],0.25)[1]"
   ]
  },
  {
   "cell_type": "code",
   "execution_count": null,
   "metadata": {},
   "outputs": [],
   "source": []
  }
 ],
 "metadata": {
  "interpreter": {
   "hash": "566c7dc836cf49ea79a80bde3a77d731ae67019fab1def2dd83c01090ce827fd"
  },
  "kernelspec": {
   "display_name": "Python 3.8.5 64-bit ('DataViz': conda)",
   "name": "python3"
  },
  "language_info": {
   "name": "python",
   "version": ""
  },
  "orig_nbformat": 2
 },
 "nbformat": 4,
 "nbformat_minor": 2
}